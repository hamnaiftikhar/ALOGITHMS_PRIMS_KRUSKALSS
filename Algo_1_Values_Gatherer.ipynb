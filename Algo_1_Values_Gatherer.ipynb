{
  "nbformat": 4,
  "nbformat_minor": 0,
  "metadata": {
    "colab": {
      "provenance": []
    },
    "kernelspec": {
      "name": "python3",
      "display_name": "Python 3"
    },
    "language_info": {
      "name": "python"
    }
  },
  "cells": [
    {
      "cell_type": "code",
      "execution_count": 10,
      "metadata": {
        "id": "tXCP5eQ9HAH6"
      },
      "outputs": [],
      "source": [
        "import numpy as np\n",
        "import pandas as pd\n",
        "import random as rand"
      ]
    },
    {
      "cell_type": "code",
      "source": [
        "Nodes = 10000\n",
        "Dense = True\n",
        "Visited = np.zeros(Nodes, dtype=int)\n",
        "Edges = {}"
      ],
      "metadata": {
        "id": "qYK57tDwHbvp"
      },
      "execution_count": 11,
      "outputs": []
    },
    {
      "cell_type": "code",
      "source": [
        "if Dense:\n",
        "  n = 0.5*Nodes*(Nodes-1)+rand.randint(0, Nodes-1)\n",
        "else:\n",
        "  n = 0.5*Nodes*(Nodes-1)-rand.randint(0, Nodes-1)"
      ],
      "metadata": {
        "id": "N1-FwnWbJBEP"
      },
      "execution_count": 12,
      "outputs": []
    },
    {
      "cell_type": "code",
      "source": [
        "while(n):\n",
        "  i = rand.randint(0, Nodes-1)\n",
        "  j = rand.randint(i, Nodes-1)\n",
        "  if i == j:\n",
        "    continue\n",
        "  Edges[(i, j)] = rand.randint(1, 999)\n",
        "  n = n-1"
      ],
      "metadata": {
        "id": "LLIQPRAAKr1I"
      },
      "execution_count": 13,
      "outputs": []
    },
    {
      "cell_type": "code",
      "source": [
        "%%time\n",
        "\n",
        "Solution = {}\n",
        "count = 0\n",
        "Temp = {}\n",
        "\n",
        "Edges = dict(sorted(Edges.items(), key=lambda x: x[1]))\n",
        "\n",
        "for key, value in Edges.items():\n",
        "  i, j = key[0], key[1]\n",
        "\n",
        "  if Visited[i]==Visited[j] and Visited[j] != 0:\n",
        "    continue\n",
        "\n",
        "  Solution[(i, j)] = value\n",
        "\n",
        "  if Visited[i] == 0 and Visited[j] == 0:\n",
        "    count += 1\n",
        "    Visited[i], Visited[j] = count, count\n",
        "    Temp[int(count)] = [i, j]\n",
        "\n",
        "  elif Visited[i] == 0 and Visited[j] != 0:\n",
        "    Visited[i] = Visited[j]\n",
        "    Temp[Visited[j]].append(i)\n",
        "\n",
        "  elif Visited[j] == 0 and Visited[i] != 0:\n",
        "    Visited[j] = Visited[i]\n",
        "    Temp[Visited[i]].append(j)\n",
        "\n",
        "  elif Visited[i] != Visited[j]:\n",
        "    Temp[Visited[i]].extend(Temp[Visited[j]])\n",
        "    X = Temp.pop(Visited[j])\n",
        "    for x in X:\n",
        "      Visited[x] = Visited[i]"
      ],
      "metadata": {
        "id": "_l_eFAjMQwY-",
        "colab": {
          "base_uri": "https://localhost:8080/"
        },
        "outputId": "bc7eb6bf-2a67-4c2d-d1a8-238a61891113"
      },
      "execution_count": 14,
      "outputs": [
        {
          "output_type": "stream",
          "name": "stdout",
          "text": [
            "CPU times: user 2min, sys: 4.91 s, total: 2min 5s\n",
            "Wall time: 2min 5s\n"
          ]
        }
      ]
    },
    {
      "cell_type": "code",
      "source": [
        "len(Solution) == Nodes-1"
      ],
      "metadata": {
        "colab": {
          "base_uri": "https://localhost:8080/"
        },
        "id": "9rCEnRM7CxwR",
        "outputId": "2d9a8f20-5f14-4584-87e7-c9ceb79b4422"
      },
      "execution_count": 15,
      "outputs": [
        {
          "output_type": "execute_result",
          "data": {
            "text/plain": [
              "True"
            ]
          },
          "metadata": {},
          "execution_count": 15
        }
      ]
    },
    {
      "cell_type": "code",
      "source": [],
      "metadata": {
        "id": "GKcJ0tW28wzW"
      },
      "execution_count": null,
      "outputs": []
    }
  ]
}