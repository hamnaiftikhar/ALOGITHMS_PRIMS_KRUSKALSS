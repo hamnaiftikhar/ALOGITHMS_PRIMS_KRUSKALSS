{
  "nbformat": 4,
  "nbformat_minor": 0,
  "metadata": {
    "colab": {
      "provenance": []
    },
    "kernelspec": {
      "name": "python3",
      "display_name": "Python 3"
    },
    "language_info": {
      "name": "python"
    }
  },
  "cells": [
    {
      "cell_type": "code",
      "execution_count": 5,
      "metadata": {
        "id": "plSnpQ5J5_Hd"
      },
      "outputs": [],
      "source": [
        "import numpy as np\n",
        "import pandas as pd\n",
        "import random as rand"
      ]
    },
    {
      "cell_type": "code",
      "source": [
        "Nodes = 10000\n",
        "Dense = True\n",
        "Visited = np.zeros(Nodes, dtype=int)\n",
        "Edges = {}"
      ],
      "metadata": {
        "id": "4-Zab7n96MOg"
      },
      "execution_count": 6,
      "outputs": []
    },
    {
      "cell_type": "code",
      "source": [
        "if Dense:\n",
        "  n = 0.5*Nodes*(Nodes-1)+rand.randint(0, Nodes-1)\n",
        "else:\n",
        "  n = 0.5*Nodes*(Nodes-1)-rand.randint(0, Nodes-1)"
      ],
      "metadata": {
        "id": "i3bA7k7w6S1A"
      },
      "execution_count": 7,
      "outputs": []
    },
    {
      "cell_type": "code",
      "source": [
        "Edges = {}\n",
        "for i in range(Nodes):\n",
        "  Edges[i] = {}\n",
        "while(n):\n",
        "  i = rand.randint(0, Nodes-1)\n",
        "  j = rand.randint(i, Nodes-1)\n",
        "  if i == j:\n",
        "    continue\n",
        "  val = rand.randint(1, 999)\n",
        "  Edges[i][j] = val\n",
        "  Edges[j][i] = val\n",
        "  n = n-1"
      ],
      "metadata": {
        "id": "84MnC-Rk6aPn"
      },
      "execution_count": 8,
      "outputs": []
    },
    {
      "cell_type": "code",
      "source": [
        "%%time\n",
        "\n",
        "for i in range(len(Edges)):\n",
        "  Edges[i] = dict(sorted(Edges[i].items(), key=lambda x: x[1]))\n",
        "\n",
        "Temp = []\n",
        "Solution = {}\n",
        "\n",
        "Visited[0] = 1\n",
        "Temp.append(0)\n",
        "for i in Edges.keys():\n",
        "  Edges[i].pop(0, None)\n",
        "\n",
        "while(sum(Visited) != Nodes):\n",
        "  X = [[i, next(iter(Edges[i].items()))] for i in Temp if Edges[i]]\n",
        "  index = min(X, key=lambda x:x[1][1])\n",
        "\n",
        "  i, X = index\n",
        "  j, value = X\n",
        "\n",
        "  for X in Edges.keys():\n",
        "    Edges[X].pop(j, None)\n",
        "\n",
        "  Temp.append(j)\n",
        "  Solution[(i, j)] = value\n",
        "\n",
        "  Visited[j] = 1"
      ],
      "metadata": {
        "colab": {
          "base_uri": "https://localhost:8080/"
        },
        "id": "nv6W8Nka7BNi",
        "outputId": "8ce66d8d-2cd3-4b27-feee-53294af38e37"
      },
      "execution_count": 9,
      "outputs": [
        {
          "output_type": "stream",
          "name": "stdout",
          "text": [
            "CPU times: user 5min 27s, sys: 748 ms, total: 5min 28s\n",
            "Wall time: 5min 31s\n"
          ]
        }
      ]
    },
    {
      "cell_type": "code",
      "source": [
        "len(Solution) == Nodes-1"
      ],
      "metadata": {
        "colab": {
          "base_uri": "https://localhost:8080/"
        },
        "id": "6vMwec7g8PcI",
        "outputId": "f9cd81fb-db82-4e96-b8f7-42a21f8de650"
      },
      "execution_count": 10,
      "outputs": [
        {
          "output_type": "execute_result",
          "data": {
            "text/plain": [
              "True"
            ]
          },
          "metadata": {},
          "execution_count": 10
        }
      ]
    }
  ]
}